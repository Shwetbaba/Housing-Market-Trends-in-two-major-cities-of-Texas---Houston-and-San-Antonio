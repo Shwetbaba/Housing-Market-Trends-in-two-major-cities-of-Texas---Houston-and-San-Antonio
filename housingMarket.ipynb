{
 "cells": [
  {
   "cell_type": "markdown",
   "id": "2b7ee9b5",
   "metadata": {},
   "source": [
    "# Project 2: Exact, Transform, Load\n",
    "---\n",
    "## Housing Market fluctations in four major cities of Texas"
   ]
  },
  {
   "cell_type": "code",
   "execution_count": 1,
   "id": "c1a90262",
   "metadata": {},
   "outputs": [],
   "source": [
    "#Import Dependencies\n",
    "\n",
    "import pandas as pd\n",
    "\n"
   ]
  },
  {
   "cell_type": "code",
   "execution_count": 2,
   "id": "b68ae5ae",
   "metadata": {},
   "outputs": [],
   "source": [
    "#CSV File to be extracted\n",
    "houseOwn = \"Resources/RDC_Inventory_Core_Metrics_Metro_History.csv\"\n",
    "\n",
    "#Read in CSV file\n",
    "house = pd.read_csv(houseOwn, low_memory=False)"
   ]
  },
  {
   "cell_type": "code",
   "execution_count": 3,
   "id": "194478c8",
   "metadata": {},
   "outputs": [
    {
     "data": {
      "text/html": [
       "<div>\n",
       "<style scoped>\n",
       "    .dataframe tbody tr th:only-of-type {\n",
       "        vertical-align: middle;\n",
       "    }\n",
       "\n",
       "    .dataframe tbody tr th {\n",
       "        vertical-align: top;\n",
       "    }\n",
       "\n",
       "    .dataframe thead th {\n",
       "        text-align: right;\n",
       "    }\n",
       "</style>\n",
       "<table border=\"1\" class=\"dataframe\">\n",
       "  <thead>\n",
       "    <tr style=\"text-align: right;\">\n",
       "      <th></th>\n",
       "      <th>month_date_yyyymm</th>\n",
       "      <th>cbsa_code</th>\n",
       "      <th>cbsa_title</th>\n",
       "      <th>HouseholdRank</th>\n",
       "      <th>median_listing_price</th>\n",
       "      <th>median_listing_price_mm</th>\n",
       "      <th>median_listing_price_yy</th>\n",
       "      <th>active_listing_count</th>\n",
       "      <th>active_listing_count_mm</th>\n",
       "      <th>active_listing_count_yy</th>\n",
       "      <th>...</th>\n",
       "      <th>average_listing_price</th>\n",
       "      <th>average_listing_price_mm</th>\n",
       "      <th>average_listing_price_yy</th>\n",
       "      <th>total_listing_count</th>\n",
       "      <th>total_listing_count_mm</th>\n",
       "      <th>total_listing_count_yy</th>\n",
       "      <th>pending_ratio</th>\n",
       "      <th>pending_ratio_mm</th>\n",
       "      <th>pending_ratio_yy</th>\n",
       "      <th>quality_flag</th>\n",
       "    </tr>\n",
       "  </thead>\n",
       "  <tbody>\n",
       "    <tr>\n",
       "      <th>0</th>\n",
       "      <td>202208</td>\n",
       "      <td>35620</td>\n",
       "      <td>new york-newark-jersey city, ny-nj-pa</td>\n",
       "      <td>1.0</td>\n",
       "      <td>699000.0</td>\n",
       "      <td>-0.0013</td>\n",
       "      <td>0.0167</td>\n",
       "      <td>29805.0</td>\n",
       "      <td>-0.0006</td>\n",
       "      <td>-0.0696</td>\n",
       "      <td>...</td>\n",
       "      <td>1500026.0</td>\n",
       "      <td>-0.0220</td>\n",
       "      <td>-0.0096</td>\n",
       "      <td>40516.0</td>\n",
       "      <td>-0.0099</td>\n",
       "      <td>-0.1075</td>\n",
       "      <td>0.3591</td>\n",
       "      <td>-0.0155</td>\n",
       "      <td>-0.0551</td>\n",
       "      <td>0.0</td>\n",
       "    </tr>\n",
       "    <tr>\n",
       "      <th>1</th>\n",
       "      <td>202208</td>\n",
       "      <td>31080</td>\n",
       "      <td>los angeles-long beach-anaheim, ca</td>\n",
       "      <td>2.0</td>\n",
       "      <td>938492.0</td>\n",
       "      <td>-0.0121</td>\n",
       "      <td>0.0433</td>\n",
       "      <td>15488.0</td>\n",
       "      <td>0.0271</td>\n",
       "      <td>0.3793</td>\n",
       "      <td>...</td>\n",
       "      <td>1925712.0</td>\n",
       "      <td>-0.0301</td>\n",
       "      <td>-0.0874</td>\n",
       "      <td>23645.0</td>\n",
       "      <td>0.0220</td>\n",
       "      <td>-0.0230</td>\n",
       "      <td>0.5274</td>\n",
       "      <td>-0.0069</td>\n",
       "      <td>-0.6262</td>\n",
       "      <td>0.0</td>\n",
       "    </tr>\n",
       "    <tr>\n",
       "      <th>2</th>\n",
       "      <td>202208</td>\n",
       "      <td>16980</td>\n",
       "      <td>chicago-naperville-elgin, il-in-wi</td>\n",
       "      <td>3.0</td>\n",
       "      <td>349950.0</td>\n",
       "      <td>-0.0252</td>\n",
       "      <td>0.0256</td>\n",
       "      <td>19568.0</td>\n",
       "      <td>0.0130</td>\n",
       "      <td>-0.1168</td>\n",
       "      <td>...</td>\n",
       "      <td>509532.0</td>\n",
       "      <td>-0.0145</td>\n",
       "      <td>0.0195</td>\n",
       "      <td>34527.0</td>\n",
       "      <td>-0.0279</td>\n",
       "      <td>-0.2186</td>\n",
       "      <td>0.7645</td>\n",
       "      <td>-0.0804</td>\n",
       "      <td>-0.2277</td>\n",
       "      <td>0.0</td>\n",
       "    </tr>\n",
       "    <tr>\n",
       "      <th>3</th>\n",
       "      <td>202208</td>\n",
       "      <td>19100</td>\n",
       "      <td>dallas-fort worth-arlington, tx</td>\n",
       "      <td>4.0</td>\n",
       "      <td>461450.0</td>\n",
       "      <td>-0.0285</td>\n",
       "      <td>0.1673</td>\n",
       "      <td>16504.0</td>\n",
       "      <td>0.1245</td>\n",
       "      <td>0.8073</td>\n",
       "      <td>...</td>\n",
       "      <td>618640.0</td>\n",
       "      <td>-0.0398</td>\n",
       "      <td>0.0899</td>\n",
       "      <td>28744.0</td>\n",
       "      <td>0.0505</td>\n",
       "      <td>0.2132</td>\n",
       "      <td>0.7421</td>\n",
       "      <td>-0.119</td>\n",
       "      <td>-0.8499</td>\n",
       "      <td>0.0</td>\n",
       "    </tr>\n",
       "    <tr>\n",
       "      <th>4</th>\n",
       "      <td>202208</td>\n",
       "      <td>26420</td>\n",
       "      <td>houston-the woodlands-sugar land, tx</td>\n",
       "      <td>5.0</td>\n",
       "      <td>383000.0</td>\n",
       "      <td>-0.0249</td>\n",
       "      <td>0.0528</td>\n",
       "      <td>20141.0</td>\n",
       "      <td>0.0950</td>\n",
       "      <td>0.2316</td>\n",
       "      <td>...</td>\n",
       "      <td>524434.0</td>\n",
       "      <td>-0.0308</td>\n",
       "      <td>-0.0040</td>\n",
       "      <td>32300.0</td>\n",
       "      <td>0.0306</td>\n",
       "      <td>0.0042</td>\n",
       "      <td>0.6037</td>\n",
       "      <td>-0.1001</td>\n",
       "      <td>-0.3635</td>\n",
       "      <td>0.0</td>\n",
       "    </tr>\n",
       "  </tbody>\n",
       "</table>\n",
       "<p>5 rows × 41 columns</p>\n",
       "</div>"
      ],
      "text/plain": [
       "  month_date_yyyymm cbsa_code                             cbsa_title  \\\n",
       "0            202208     35620  new york-newark-jersey city, ny-nj-pa   \n",
       "1            202208     31080     los angeles-long beach-anaheim, ca   \n",
       "2            202208     16980     chicago-naperville-elgin, il-in-wi   \n",
       "3            202208     19100        dallas-fort worth-arlington, tx   \n",
       "4            202208     26420   houston-the woodlands-sugar land, tx   \n",
       "\n",
       "   HouseholdRank  median_listing_price  median_listing_price_mm  \\\n",
       "0            1.0              699000.0                  -0.0013   \n",
       "1            2.0              938492.0                  -0.0121   \n",
       "2            3.0              349950.0                  -0.0252   \n",
       "3            4.0              461450.0                  -0.0285   \n",
       "4            5.0              383000.0                  -0.0249   \n",
       "\n",
       "   median_listing_price_yy  active_listing_count  active_listing_count_mm  \\\n",
       "0                   0.0167               29805.0                  -0.0006   \n",
       "1                   0.0433               15488.0                   0.0271   \n",
       "2                   0.0256               19568.0                   0.0130   \n",
       "3                   0.1673               16504.0                   0.1245   \n",
       "4                   0.0528               20141.0                   0.0950   \n",
       "\n",
       "   active_listing_count_yy  ...  average_listing_price  \\\n",
       "0                  -0.0696  ...              1500026.0   \n",
       "1                   0.3793  ...              1925712.0   \n",
       "2                  -0.1168  ...               509532.0   \n",
       "3                   0.8073  ...               618640.0   \n",
       "4                   0.2316  ...               524434.0   \n",
       "\n",
       "   average_listing_price_mm  average_listing_price_yy  total_listing_count  \\\n",
       "0                   -0.0220                   -0.0096              40516.0   \n",
       "1                   -0.0301                   -0.0874              23645.0   \n",
       "2                   -0.0145                    0.0195              34527.0   \n",
       "3                   -0.0398                    0.0899              28744.0   \n",
       "4                   -0.0308                   -0.0040              32300.0   \n",
       "\n",
       "   total_listing_count_mm  total_listing_count_yy  pending_ratio  \\\n",
       "0                 -0.0099                 -0.1075         0.3591   \n",
       "1                  0.0220                 -0.0230         0.5274   \n",
       "2                 -0.0279                 -0.2186         0.7645   \n",
       "3                  0.0505                  0.2132         0.7421   \n",
       "4                  0.0306                  0.0042         0.6037   \n",
       "\n",
       "   pending_ratio_mm  pending_ratio_yy  quality_flag  \n",
       "0           -0.0155           -0.0551           0.0  \n",
       "1           -0.0069           -0.6262           0.0  \n",
       "2           -0.0804           -0.2277           0.0  \n",
       "3            -0.119           -0.8499           0.0  \n",
       "4           -0.1001           -0.3635           0.0  \n",
       "\n",
       "[5 rows x 41 columns]"
      ]
     },
     "execution_count": 3,
     "metadata": {},
     "output_type": "execute_result"
    }
   ],
   "source": [
    "house.head()"
   ]
  },
  {
   "cell_type": "code",
   "execution_count": 4,
   "id": "f9009ba0",
   "metadata": {},
   "outputs": [
    {
     "data": {
      "text/plain": [
       "Index(['month_date_yyyymm', 'cbsa_code', 'cbsa_title', 'HouseholdRank',\n",
       "       'median_listing_price', 'median_listing_price_mm',\n",
       "       'median_listing_price_yy', 'active_listing_count',\n",
       "       'active_listing_count_mm', 'active_listing_count_yy',\n",
       "       'median_days_on_market', 'median_days_on_market_mm',\n",
       "       'median_days_on_market_yy', 'new_listing_count', 'new_listing_count_mm',\n",
       "       'new_listing_count_yy', 'price_increased_count',\n",
       "       'price_increased_count_mm', 'price_increased_count_yy',\n",
       "       'price_reduced_count', 'price_reduced_count_mm',\n",
       "       'price_reduced_count_yy', 'pending_listing_count',\n",
       "       'pending_listing_count_mm', 'pending_listing_count_yy',\n",
       "       'median_listing_price_per_square_foot',\n",
       "       'median_listing_price_per_square_foot_mm',\n",
       "       'median_listing_price_per_square_foot_yy', 'median_square_feet',\n",
       "       'median_square_feet_mm', 'median_square_feet_yy',\n",
       "       'average_listing_price', 'average_listing_price_mm',\n",
       "       'average_listing_price_yy', 'total_listing_count',\n",
       "       'total_listing_count_mm', 'total_listing_count_yy', 'pending_ratio',\n",
       "       'pending_ratio_mm', 'pending_ratio_yy', 'quality_flag'],\n",
       "      dtype='object')"
      ]
     },
     "execution_count": 4,
     "metadata": {},
     "output_type": "execute_result"
    }
   ],
   "source": [
    "house.columns"
   ]
  },
  {
   "cell_type": "code",
   "execution_count": 5,
   "id": "837a6944",
   "metadata": {},
   "outputs": [
    {
     "data": {
      "text/plain": [
       "67859"
      ]
     },
     "execution_count": 5,
     "metadata": {},
     "output_type": "execute_result"
    }
   ],
   "source": [
    "len(house)"
   ]
  },
  {
   "cell_type": "code",
   "execution_count": 6,
   "id": "4340ad07",
   "metadata": {},
   "outputs": [
    {
     "data": {
      "text/html": [
       "<div>\n",
       "<style scoped>\n",
       "    .dataframe tbody tr th:only-of-type {\n",
       "        vertical-align: middle;\n",
       "    }\n",
       "\n",
       "    .dataframe tbody tr th {\n",
       "        vertical-align: top;\n",
       "    }\n",
       "\n",
       "    .dataframe thead th {\n",
       "        text-align: right;\n",
       "    }\n",
       "</style>\n",
       "<table border=\"1\" class=\"dataframe\">\n",
       "  <thead>\n",
       "    <tr style=\"text-align: right;\">\n",
       "      <th></th>\n",
       "      <th>month_date_yyyymm</th>\n",
       "      <th>cbsa_code</th>\n",
       "      <th>cbsa_title</th>\n",
       "      <th>average_listing_price</th>\n",
       "    </tr>\n",
       "  </thead>\n",
       "  <tbody>\n",
       "    <tr>\n",
       "      <th>0</th>\n",
       "      <td>202208</td>\n",
       "      <td>35620</td>\n",
       "      <td>new york-newark-jersey city, ny-nj-pa</td>\n",
       "      <td>1500026.0</td>\n",
       "    </tr>\n",
       "    <tr>\n",
       "      <th>1</th>\n",
       "      <td>202208</td>\n",
       "      <td>31080</td>\n",
       "      <td>los angeles-long beach-anaheim, ca</td>\n",
       "      <td>1925712.0</td>\n",
       "    </tr>\n",
       "    <tr>\n",
       "      <th>2</th>\n",
       "      <td>202208</td>\n",
       "      <td>16980</td>\n",
       "      <td>chicago-naperville-elgin, il-in-wi</td>\n",
       "      <td>509532.0</td>\n",
       "    </tr>\n",
       "    <tr>\n",
       "      <th>3</th>\n",
       "      <td>202208</td>\n",
       "      <td>19100</td>\n",
       "      <td>dallas-fort worth-arlington, tx</td>\n",
       "      <td>618640.0</td>\n",
       "    </tr>\n",
       "    <tr>\n",
       "      <th>4</th>\n",
       "      <td>202208</td>\n",
       "      <td>26420</td>\n",
       "      <td>houston-the woodlands-sugar land, tx</td>\n",
       "      <td>524434.0</td>\n",
       "    </tr>\n",
       "  </tbody>\n",
       "</table>\n",
       "</div>"
      ],
      "text/plain": [
       "  month_date_yyyymm cbsa_code                             cbsa_title  \\\n",
       "0            202208     35620  new york-newark-jersey city, ny-nj-pa   \n",
       "1            202208     31080     los angeles-long beach-anaheim, ca   \n",
       "2            202208     16980     chicago-naperville-elgin, il-in-wi   \n",
       "3            202208     19100        dallas-fort worth-arlington, tx   \n",
       "4            202208     26420   houston-the woodlands-sugar land, tx   \n",
       "\n",
       "   average_listing_price  \n",
       "0              1500026.0  \n",
       "1              1925712.0  \n",
       "2               509532.0  \n",
       "3               618640.0  \n",
       "4               524434.0  "
      ]
     },
     "execution_count": 6,
     "metadata": {},
     "output_type": "execute_result"
    }
   ],
   "source": [
    "#Filtering out the necessary columns\n",
    "reduced_house = house[[\"month_date_yyyymm\", \"cbsa_code\",\"cbsa_title\",\"average_listing_price\"]]\n",
    "reduced_house.head()"
   ]
  },
  {
   "cell_type": "code",
   "execution_count": 7,
   "id": "c6542730",
   "metadata": {},
   "outputs": [
    {
     "data": {
      "text/plain": [
       "67859"
      ]
     },
     "execution_count": 7,
     "metadata": {},
     "output_type": "execute_result"
    }
   ],
   "source": [
    "len(reduced_house)"
   ]
  },
  {
   "cell_type": "code",
   "execution_count": 8,
   "id": "6bd19e0e",
   "metadata": {},
   "outputs": [
    {
     "data": {
      "text/html": [
       "<div>\n",
       "<style scoped>\n",
       "    .dataframe tbody tr th:only-of-type {\n",
       "        vertical-align: middle;\n",
       "    }\n",
       "\n",
       "    .dataframe tbody tr th {\n",
       "        vertical-align: top;\n",
       "    }\n",
       "\n",
       "    .dataframe thead th {\n",
       "        text-align: right;\n",
       "    }\n",
       "</style>\n",
       "<table border=\"1\" class=\"dataframe\">\n",
       "  <thead>\n",
       "    <tr style=\"text-align: right;\">\n",
       "      <th></th>\n",
       "      <th>month_date_yyyymm</th>\n",
       "      <th>cbsa_code</th>\n",
       "      <th>cbsa_title</th>\n",
       "      <th>average_listing_price</th>\n",
       "    </tr>\n",
       "  </thead>\n",
       "  <tbody>\n",
       "    <tr>\n",
       "      <th>3</th>\n",
       "      <td>202208</td>\n",
       "      <td>19100</td>\n",
       "      <td>dallas-fort worth-arlington, tx</td>\n",
       "      <td>618640.0</td>\n",
       "    </tr>\n",
       "    <tr>\n",
       "      <th>4</th>\n",
       "      <td>202208</td>\n",
       "      <td>26420</td>\n",
       "      <td>houston-the woodlands-sugar land, tx</td>\n",
       "      <td>524434.0</td>\n",
       "    </tr>\n",
       "    <tr>\n",
       "      <th>26</th>\n",
       "      <td>202208</td>\n",
       "      <td>41700</td>\n",
       "      <td>san antonio-new braunfels, tx</td>\n",
       "      <td>502658.0</td>\n",
       "    </tr>\n",
       "    <tr>\n",
       "      <th>33</th>\n",
       "      <td>202208</td>\n",
       "      <td>12420</td>\n",
       "      <td>austin-round rock, tx</td>\n",
       "      <td>824453.0</td>\n",
       "    </tr>\n",
       "    <tr>\n",
       "      <th>920</th>\n",
       "      <td>202207</td>\n",
       "      <td>19100</td>\n",
       "      <td>dallas-fort worth-arlington, tx</td>\n",
       "      <td>644294.0</td>\n",
       "    </tr>\n",
       "  </tbody>\n",
       "</table>\n",
       "</div>"
      ],
      "text/plain": [
       "    month_date_yyyymm cbsa_code                            cbsa_title  \\\n",
       "3              202208     19100       dallas-fort worth-arlington, tx   \n",
       "4              202208     26420  houston-the woodlands-sugar land, tx   \n",
       "26             202208     41700         san antonio-new braunfels, tx   \n",
       "33             202208     12420                 austin-round rock, tx   \n",
       "920            202207     19100       dallas-fort worth-arlington, tx   \n",
       "\n",
       "     average_listing_price  \n",
       "3                 618640.0  \n",
       "4                 524434.0  \n",
       "26                502658.0  \n",
       "33                824453.0  \n",
       "920               644294.0  "
      ]
     },
     "execution_count": 8,
     "metadata": {},
     "output_type": "execute_result"
    }
   ],
   "source": [
    "#collecting data for the four Texas Cities: Dallas, Austin, San Antonio and Houston\n",
    "texas_house = reduced_house.loc[((reduced_house[\"cbsa_code\"] == \"19100\") |\n",
    "                                 (reduced_house[\"cbsa_code\"] == \"26420\") |\n",
    "                                 (reduced_house[\"cbsa_code\"] == \"41700\") |\n",
    "                                 (reduced_house[\"cbsa_code\"] == \"12420\")\n",
    "                                ),:]\n",
    "texas_house.head()"
   ]
  },
  {
   "cell_type": "code",
   "execution_count": 9,
   "id": "cb7920e9",
   "metadata": {},
   "outputs": [
    {
     "data": {
      "text/plain": [
       "296"
      ]
     },
     "execution_count": 9,
     "metadata": {},
     "output_type": "execute_result"
    }
   ],
   "source": [
    "len(texas_house)"
   ]
  },
  {
   "cell_type": "code",
   "execution_count": 10,
   "id": "8c55a7ca",
   "metadata": {},
   "outputs": [
    {
     "data": {
      "text/html": [
       "<div>\n",
       "<style scoped>\n",
       "    .dataframe tbody tr th:only-of-type {\n",
       "        vertical-align: middle;\n",
       "    }\n",
       "\n",
       "    .dataframe tbody tr th {\n",
       "        vertical-align: top;\n",
       "    }\n",
       "\n",
       "    .dataframe thead th {\n",
       "        text-align: right;\n",
       "    }\n",
       "</style>\n",
       "<table border=\"1\" class=\"dataframe\">\n",
       "  <thead>\n",
       "    <tr style=\"text-align: right;\">\n",
       "      <th></th>\n",
       "      <th>month_date_yyyymm</th>\n",
       "      <th>cbsa_code</th>\n",
       "      <th>cbsa_title</th>\n",
       "      <th>average_listing_price</th>\n",
       "    </tr>\n",
       "  </thead>\n",
       "  <tbody>\n",
       "    <tr>\n",
       "      <th>3</th>\n",
       "      <td>202208</td>\n",
       "      <td>19100</td>\n",
       "      <td>dallas-fort worth-arlington, tx</td>\n",
       "      <td>618640.0</td>\n",
       "    </tr>\n",
       "    <tr>\n",
       "      <th>4</th>\n",
       "      <td>202208</td>\n",
       "      <td>26420</td>\n",
       "      <td>houston-the woodlands-sugar land, tx</td>\n",
       "      <td>524434.0</td>\n",
       "    </tr>\n",
       "    <tr>\n",
       "      <th>26</th>\n",
       "      <td>202208</td>\n",
       "      <td>41700</td>\n",
       "      <td>san antonio-new braunfels, tx</td>\n",
       "      <td>502658.0</td>\n",
       "    </tr>\n",
       "    <tr>\n",
       "      <th>33</th>\n",
       "      <td>202208</td>\n",
       "      <td>12420</td>\n",
       "      <td>austin-round rock, tx</td>\n",
       "      <td>824453.0</td>\n",
       "    </tr>\n",
       "    <tr>\n",
       "      <th>920</th>\n",
       "      <td>202207</td>\n",
       "      <td>19100</td>\n",
       "      <td>dallas-fort worth-arlington, tx</td>\n",
       "      <td>644294.0</td>\n",
       "    </tr>\n",
       "  </tbody>\n",
       "</table>\n",
       "</div>"
      ],
      "text/plain": [
       "     month_date_yyyymm cbsa_code                            cbsa_title  \\\n",
       "3               202208     19100       dallas-fort worth-arlington, tx   \n",
       "4               202208     26420  houston-the woodlands-sugar land, tx   \n",
       "26              202208     41700         san antonio-new braunfels, tx   \n",
       "33              202208     12420                 austin-round rock, tx   \n",
       "920             202207     19100       dallas-fort worth-arlington, tx   \n",
       "\n",
       "     average_listing_price  \n",
       "3                 618640.0  \n",
       "4                 524434.0  \n",
       "26                502658.0  \n",
       "33                824453.0  \n",
       "920               644294.0  "
      ]
     },
     "execution_count": 10,
     "metadata": {},
     "output_type": "execute_result"
    }
   ],
   "source": [
    "texas_house = texas_house.astype({\"month_date_yyyymm\":int},errors ='raise')\n",
    "texas_house.head()"
   ]
  },
  {
   "cell_type": "code",
   "execution_count": 11,
   "id": "4b421972",
   "metadata": {},
   "outputs": [
    {
     "data": {
      "text/plain": [
       "dtype('int32')"
      ]
     },
     "execution_count": 11,
     "metadata": {},
     "output_type": "execute_result"
    }
   ],
   "source": [
    "texas_house[\"month_date_yyyymm\"].dtype"
   ]
  },
  {
   "cell_type": "code",
   "execution_count": 17,
   "id": "5364ab50",
   "metadata": {},
   "outputs": [
    {
     "data": {
      "text/html": [
       "<div>\n",
       "<style scoped>\n",
       "    .dataframe tbody tr th:only-of-type {\n",
       "        vertical-align: middle;\n",
       "    }\n",
       "\n",
       "    .dataframe tbody tr th {\n",
       "        vertical-align: top;\n",
       "    }\n",
       "\n",
       "    .dataframe thead th {\n",
       "        text-align: right;\n",
       "    }\n",
       "</style>\n",
       "<table border=\"1\" class=\"dataframe\">\n",
       "  <thead>\n",
       "    <tr style=\"text-align: right;\">\n",
       "      <th></th>\n",
       "      <th>month_date_yyyymm</th>\n",
       "      <th>cbsa_code</th>\n",
       "      <th>cbsa_title</th>\n",
       "      <th>average_listing_price</th>\n",
       "    </tr>\n",
       "  </thead>\n",
       "  <tbody>\n",
       "    <tr>\n",
       "      <th>16539</th>\n",
       "      <td>202102</td>\n",
       "      <td>12420</td>\n",
       "      <td>austin-round rock, tx</td>\n",
       "      <td>750325.0</td>\n",
       "    </tr>\n",
       "    <tr>\n",
       "      <th>17426</th>\n",
       "      <td>202101</td>\n",
       "      <td>19100</td>\n",
       "      <td>dallas-fort worth-arlington, tx</td>\n",
       "      <td>550512.0</td>\n",
       "    </tr>\n",
       "    <tr>\n",
       "      <th>17427</th>\n",
       "      <td>202101</td>\n",
       "      <td>26420</td>\n",
       "      <td>houston-the woodlands-sugar land, tx</td>\n",
       "      <td>499078.0</td>\n",
       "    </tr>\n",
       "    <tr>\n",
       "      <th>17449</th>\n",
       "      <td>202101</td>\n",
       "      <td>41700</td>\n",
       "      <td>san antonio-new braunfels, tx</td>\n",
       "      <td>417182.0</td>\n",
       "    </tr>\n",
       "    <tr>\n",
       "      <th>17456</th>\n",
       "      <td>202101</td>\n",
       "      <td>12420</td>\n",
       "      <td>austin-round rock, tx</td>\n",
       "      <td>717682.0</td>\n",
       "    </tr>\n",
       "  </tbody>\n",
       "</table>\n",
       "</div>"
      ],
      "text/plain": [
       "       month_date_yyyymm cbsa_code                            cbsa_title  \\\n",
       "16539             202102     12420                 austin-round rock, tx   \n",
       "17426             202101     19100       dallas-fort worth-arlington, tx   \n",
       "17427             202101     26420  houston-the woodlands-sugar land, tx   \n",
       "17449             202101     41700         san antonio-new braunfels, tx   \n",
       "17456             202101     12420                 austin-round rock, tx   \n",
       "\n",
       "       average_listing_price  \n",
       "16539               750325.0  \n",
       "17426               550512.0  \n",
       "17427               499078.0  \n",
       "17449               417182.0  \n",
       "17456               717682.0  "
      ]
     },
     "execution_count": 17,
     "metadata": {},
     "output_type": "execute_result"
    }
   ],
   "source": [
    "#Filter the data for the date range of January 2021 until August 2022\n",
    "\n",
    "year_texas_house = texas_house.loc[texas_house[\"month_date_yyyymm\"] > 202012]\n",
    "year_texas_house.tail()"
   ]
  },
  {
   "cell_type": "code",
   "execution_count": 16,
   "id": "2fb69bb0",
   "metadata": {},
   "outputs": [
    {
     "data": {
      "text/plain": [
       "80"
      ]
     },
     "execution_count": 16,
     "metadata": {},
     "output_type": "execute_result"
    }
   ],
   "source": [
    "len(year_texas_house)"
   ]
  },
  {
   "cell_type": "code",
   "execution_count": null,
   "id": "e3a20c50",
   "metadata": {},
   "outputs": [],
   "source": [
    "#To Do\n",
    "# - rename columns\n",
    "#- export to a database - PgAdmin\n"
   ]
  },
  {
   "cell_type": "code",
   "execution_count": null,
   "id": "b9fb165d",
   "metadata": {},
   "outputs": [],
   "source": []
  },
  {
   "cell_type": "code",
   "execution_count": null,
   "id": "35196bce",
   "metadata": {},
   "outputs": [],
   "source": []
  },
  {
   "cell_type": "code",
   "execution_count": null,
   "id": "be2d4291",
   "metadata": {},
   "outputs": [],
   "source": []
  },
  {
   "cell_type": "code",
   "execution_count": null,
   "id": "1f399943",
   "metadata": {},
   "outputs": [],
   "source": []
  },
  {
   "cell_type": "code",
   "execution_count": null,
   "id": "6cde16ba",
   "metadata": {},
   "outputs": [],
   "source": []
  },
  {
   "cell_type": "code",
   "execution_count": null,
   "id": "f35b5ae7",
   "metadata": {},
   "outputs": [],
   "source": []
  },
  {
   "cell_type": "code",
   "execution_count": null,
   "id": "e37a7215",
   "metadata": {},
   "outputs": [],
   "source": []
  }
 ],
 "metadata": {
  "kernelspec": {
   "display_name": "PythonData",
   "language": "python",
   "name": "pythondata"
  },
  "language_info": {
   "codemirror_mode": {
    "name": "ipython",
    "version": 3
   },
   "file_extension": ".py",
   "mimetype": "text/x-python",
   "name": "python",
   "nbconvert_exporter": "python",
   "pygments_lexer": "ipython3",
   "version": "3.9.7"
  }
 },
 "nbformat": 4,
 "nbformat_minor": 5
}
